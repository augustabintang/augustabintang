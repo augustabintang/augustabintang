{
  "cells": [
    {
      "cell_type": "markdown",
      "source": [
        "**Latar Belakang**\n",
        "\n",
        "- COVID-19 merupakan penyakit yang menjadi pandemi secara global.\n",
        "- Untuk menangani penyebaran COVID-19, pemerintah membentuk gugus tugas (task force unit).\n",
        "- Salah satu upaya yang dilakukan pemerintah adalah mengumpulkan dan menyediakan data penyebaran COVID-19."
      ],
      "metadata": {
        "id": "WNr1r0FtjRxH"
      }
    },
    {
      "cell_type": "markdown",
      "source": [
        "**Rumusan Masalah**\n",
        "- Bagaimana pola kasus harian positif COVID-19 di Jawa Timur?\n",
        "- Bagaimana pola kasus sembuh di Jawa Timur?\n",
        "- Bagaimana pola kasus meninggal di Jawa Timur?\n",
        "- Kapan kasus pekanan COVID-19 di Jawa Timur mengalami penurunan?\n",
        "- Bagaimana pola akumulasi aktif COVID-19 di Jawa Timur?"
      ],
      "metadata": {
        "id": "QBfg1csnWiXO"
      }
    },
    {
      "cell_type": "markdown",
      "source": [
        "**Data Penyebaran COVID-19 di Indonesia**"
      ],
      "metadata": {
        "id": "PA3CcXQ9o3dN"
      }
    },
    {
      "cell_type": "code",
      "source": [
        "import requests\n",
        "resp = requests.get('https://storage.googleapis.com/dqlab-dataset/update.json', verify=False)"
      ],
      "metadata": {
        "id": "DkO2YB2Co7Yc",
        "outputId": "073cf303-cc82-489b-cc68-9cac80afd97c",
        "colab": {
          "base_uri": "https://localhost:8080/"
        }
      },
      "execution_count": null,
      "outputs": [
        {
          "output_type": "stream",
          "name": "stderr",
          "text": [
            "/usr/local/lib/python3.7/dist-packages/urllib3/connectionpool.py:847: InsecureRequestWarning: Unverified HTTPS request is being made. Adding certificate verification is strongly advised. See: https://urllib3.readthedocs.io/en/latest/advanced-usage.html#ssl-warnings\n",
            "  InsecureRequestWarning)\n"
          ]
        }
      ]
    },
    {
      "cell_type": "markdown",
      "source": [
        "**Status Code**\n",
        "\n",
        "Beberapa jenis status code yang umumnya dijumpai, antara lain:\n",
        "\n",
        "200: permintaan sukses dipenuhi;\n",
        "\n",
        "404: berkas yang diminta tidak dapat ditemukan;\n",
        "\n",
        "500: akses permintaan ditolak; dan\n",
        "\n",
        "501: terjadi kesalahan pada server."
      ],
      "metadata": {
        "id": "Vx-u_BJTpFJN"
      }
    },
    {
      "cell_type": "code",
      "source": [
        "import requests\n",
        "resp = requests.get('https://storage.googleapis.com/dqlab-dataset/update.json', verify=False)\n",
        "print(resp)"
      ],
      "metadata": {
        "id": "Oc0LYlV-pHyS",
        "outputId": "add705b6-0665-4c19-9a52-f61440bb0dab",
        "colab": {
          "base_uri": "https://localhost:8080/"
        }
      },
      "execution_count": null,
      "outputs": [
        {
          "output_type": "stream",
          "name": "stdout",
          "text": [
            "<Response [200]>\n"
          ]
        },
        {
          "output_type": "stream",
          "name": "stderr",
          "text": [
            "/usr/local/lib/python3.7/dist-packages/urllib3/connectionpool.py:847: InsecureRequestWarning: Unverified HTTPS request is being made. Adding certificate verification is strongly advised. See: https://urllib3.readthedocs.io/en/latest/advanced-usage.html#ssl-warnings\n",
            "  InsecureRequestWarning)\n"
          ]
        }
      ]
    },
    {
      "cell_type": "markdown",
      "source": [
        "**Analisis Data**\n",
        "\n",
        "Pertanyaan:\n",
        "\n",
        "Kapan tanggal pembaharuan data penambahan kasus?\n",
        "\n",
        "Berapa jumlah penambahan kasus sembuh?\n",
        "\n",
        "Berapa jumlah penambahan kasus meninggal?\n",
        "\n",
        "Berapa jumlah total kasus positif hingga saat ini?\n",
        "\n",
        "Berapa jumlah total kasus meninggal hingga saat ini?"
      ],
      "metadata": {
        "id": "gzeXEsqcpzU-"
      }
    },
    {
      "cell_type": "code",
      "source": [
        "import requests\n",
        "resp = requests.get('https://storage.googleapis.com/dqlab-dataset/update.json', verify=False)\n",
        "cov_id_raw = resp.json()\n",
        "cov_id_update = cov_id_raw['update']\n",
        "\n",
        "print('Tanggal pembaharuan data penambahan kasus   :', cov_id_update['penambahan']['tanggal'])\n",
        "print('Jumlah penambahan kasus sembuh :', cov_id_update['penambahan']['jumlah_sembuh'])\n",
        "print('Jumlah penambahan kasus meninggal :', cov_id_update['penambahan']['jumlah_meninggal'])\n",
        "print('Jumlah total kasus positif hingga saat ini :', cov_id_update['total']['jumlah_positif'])\n",
        "print('Jumlah total kasus meninggal hingga saat ini :', cov_id_update['total']['jumlah_meninggal'])"
      ],
      "metadata": {
        "id": "j0eSBkSLqN1m",
        "outputId": "08b259dd-eed0-4fa7-a9af-0ba355e36251",
        "colab": {
          "base_uri": "https://localhost:8080/"
        }
      },
      "execution_count": null,
      "outputs": [
        {
          "output_type": "stream",
          "name": "stdout",
          "text": [
            "Tanggal pembaharuan data penambahan kasus   : 2022-05-14\n",
            "Jumlah penambahan kasus sembuh : 416\n",
            "Jumlah penambahan kasus meninggal : 5\n",
            "Jumlah total kasus positif hingga saat ini : 6050519\n",
            "Jumlah total kasus meninggal hingga saat ini : 156453\n"
          ]
        },
        {
          "output_type": "stream",
          "name": "stderr",
          "text": [
            "/usr/local/lib/python3.7/dist-packages/urllib3/connectionpool.py:847: InsecureRequestWarning: Unverified HTTPS request is being made. Adding certificate verification is strongly advised. See: https://urllib3.readthedocs.io/en/latest/advanced-usage.html#ssl-warnings\n",
            "  InsecureRequestWarning)\n"
          ]
        }
      ]
    },
    {
      "cell_type": "markdown",
      "source": [
        "**Data Penyebaran COVID-19 di Provinsi Jawa Timur**"
      ],
      "metadata": {
        "id": "XXNdrfelFIZG"
      }
    },
    {
      "cell_type": "code",
      "source": [
        "import requests\n",
        "resp_jatim = requests.get('https://data.covid19.go.id/public/api/prov_detail_JAWA_TIMUR.json', verify=False)\n",
        "cov_jatim_raw = resp_jatim.json()"
      ],
      "metadata": {
        "colab": {
          "base_uri": "https://localhost:8080/"
        },
        "id": "XkioHeM3FVZ5",
        "outputId": "9b6bf7f3-54a2-4415-826f-9bdc78cb5071"
      },
      "execution_count": null,
      "outputs": [
        {
          "output_type": "stream",
          "name": "stderr",
          "text": [
            "/usr/local/lib/python3.7/dist-packages/urllib3/connectionpool.py:847: InsecureRequestWarning: Unverified HTTPS request is being made. Adding certificate verification is strongly advised. See: https://urllib3.readthedocs.io/en/latest/advanced-usage.html#ssl-warnings\n",
            "  InsecureRequestWarning)\n"
          ]
        }
      ]
    },
    {
      "cell_type": "markdown",
      "source": [
        "**Status Code Data COVID-19 di Provinsi Jawa Timur**"
      ],
      "metadata": {
        "id": "JaVo27ofX66T"
      }
    },
    {
      "cell_type": "code",
      "source": [
        "import requests\n",
        "resp = requests.get('https://data.covid19.go.id/public/api/prov_detail_JAWA_TIMUR.json', verify=False)\n",
        "print(resp)"
      ],
      "metadata": {
        "colab": {
          "base_uri": "https://localhost:8080/"
        },
        "id": "1PhyU0fqYALr",
        "outputId": "a6f57953-6250-417c-b7f6-452442e8b7bc"
      },
      "execution_count": null,
      "outputs": [
        {
          "output_type": "stream",
          "name": "stderr",
          "text": [
            "/usr/local/lib/python3.7/dist-packages/urllib3/connectionpool.py:847: InsecureRequestWarning: Unverified HTTPS request is being made. Adding certificate verification is strongly advised. See: https://urllib3.readthedocs.io/en/latest/advanced-usage.html#ssl-warnings\n",
            "  InsecureRequestWarning)\n"
          ]
        },
        {
          "output_type": "stream",
          "name": "stdout",
          "text": [
            "<Response [200]>\n"
          ]
        }
      ]
    },
    {
      "cell_type": "markdown",
      "source": [
        "**Analisis Data Penyebaran COVID-19 di Provinsi Jawa Timur**"
      ],
      "metadata": {
        "id": "S-d_bqQ4FYzP"
      }
    },
    {
      "cell_type": "code",
      "source": [
        "import numpy as np\n",
        "import pandas as pd\n",
        "import requests\n",
        "resp_jatim = requests.get('https://data.covid19.go.id/public/api/prov_detail_JAWA_TIMUR.json', verify=False)\n",
        "cov_jatim_raw = resp_jatim.json()\n",
        "cov_jatim = pd.DataFrame(cov_jatim_raw['list_perkembangan'])\n",
        "\n",
        "cov_jatim_tidy = (cov_jatim.drop(columns=[item for item in cov_jatim.columns\n",
        "                                               if item.startswith('AKUMULASI') \n",
        "                                                  or item.startswith('DIRAWAT')])\n",
        "                           .rename(columns=str.lower)\n",
        "                           .rename(columns={'kasus': 'kasus_baru'})\n",
        "                  )\n",
        "cov_jatim_tidy['tanggal'] = pd.to_datetime(cov_jatim_tidy['tanggal']*1e6, unit='ns')\n",
        "print('Lima data teratas:\\n', cov_jatim_tidy.head())"
      ],
      "metadata": {
        "colab": {
          "base_uri": "https://localhost:8080/"
        },
        "id": "CbGFTvVJFqt9",
        "outputId": "7bfeeaeb-b275-4fa9-cb56-9d7870f22724"
      },
      "execution_count": null,
      "outputs": [
        {
          "output_type": "stream",
          "name": "stderr",
          "text": [
            "/usr/local/lib/python3.7/dist-packages/urllib3/connectionpool.py:847: InsecureRequestWarning: Unverified HTTPS request is being made. Adding certificate verification is strongly advised. See: https://urllib3.readthedocs.io/en/latest/advanced-usage.html#ssl-warnings\n",
            "  InsecureRequestWarning)\n"
          ]
        },
        {
          "output_type": "stream",
          "name": "stdout",
          "text": [
            "Lima data teratas:\n",
            "      tanggal  kasus_baru  meninggal  sembuh\n",
            "0 2020-03-18           7          1       0\n",
            "1 2020-03-19           3          0       0\n",
            "2 2020-03-20           9          0       0\n",
            "3 2020-03-21           9          1       0\n",
            "4 2020-03-22          14          0       0\n"
          ]
        }
      ]
    },
    {
      "cell_type": "markdown",
      "source": [
        "**Grafik Kasus Harian Positif COVID-19 di Jawa Timur**"
      ],
      "metadata": {
        "id": "86FCdVR9YPgM"
      }
    },
    {
      "cell_type": "code",
      "source": [
        "import numpy as np\n",
        "import pandas as pd\n",
        "import requests\n",
        "resp_jatim = requests.get('https://data.covid19.go.id/public/api/prov_detail_JAWA_TIMUR.json', verify=False)\n",
        "cov_jatim_raw = resp_jatim.json()\n",
        "cov_jatim = pd.DataFrame(cov_jatim_raw['list_perkembangan'])\n",
        "\n",
        "cov_jatim_tidy = (cov_jatim.drop(columns=[item for item in cov_jatim.columns \n",
        "                                               if item.startswith('AKUMULASI') \n",
        "                                                  or item.startswith('DIRAWAT')])\n",
        "                           .rename(columns=str.lower)\n",
        "                           .rename(columns={'kasus': 'kasus_baru'})\n",
        "                  )\n",
        "cov_jatim_tidy['tanggal'] = pd.to_datetime(cov_jatim_tidy['tanggal']*1e6, unit='ns')\n",
        "\n",
        "import matplotlib.pyplot as plt\n",
        "import matplotlib.dates as mdates\n",
        "\n",
        "plt.clf()\n",
        "fig, ax = plt.subplots(figsize=(10,5))\n",
        "ax.bar(data=cov_jatim_tidy, x='tanggal', height='kasus_baru', color='blue')\n",
        "fig.suptitle('Kasus Harian Positif COVID-19 di Jawa Timur', \n",
        "             y=1.00, fontsize=16, fontweight='bold', ha='center')\n",
        "ax.set_title('Terjadi Peningkatan Kasus Positif pada Bulan Juli 2021 dan Februari 2022',\n",
        "             fontsize=10)\n",
        "ax.set_xlabel('Bulan')\n",
        "ax.set_ylabel('Jumlah kasus')\n",
        "ax.text(1, -0.3, 'Sumber data: covid.19.go.id', color='blue',\n",
        "        ha='right', transform=ax.transAxes)\n",
        "ax.set_xticklabels(ax.get_xticks(), rotation=90)\n",
        "\n",
        "ax.xaxis.set_major_locator(mdates.MonthLocator())\n",
        "ax.xaxis.set_major_formatter(mdates.DateFormatter('%b %Y'))\n",
        "\n",
        "plt.grid(axis='y')\n",
        "plt.tight_layout()\n",
        "plt.show()"
      ],
      "metadata": {
        "colab": {
          "base_uri": "https://localhost:8080/",
          "height": 443
        },
        "id": "WThqcSG6Ym2t",
        "outputId": "7e819389-377b-46fc-f826-2cec63c3482b"
      },
      "execution_count": null,
      "outputs": [
        {
          "output_type": "stream",
          "name": "stderr",
          "text": [
            "/usr/local/lib/python3.7/dist-packages/urllib3/connectionpool.py:847: InsecureRequestWarning: Unverified HTTPS request is being made. Adding certificate verification is strongly advised. See: https://urllib3.readthedocs.io/en/latest/advanced-usage.html#ssl-warnings\n",
            "  InsecureRequestWarning)\n"
          ]
        },
        {
          "output_type": "display_data",
          "data": {
            "text/plain": [
              "<Figure size 432x288 with 0 Axes>"
            ]
          },
          "metadata": {}
        },
        {
          "output_type": "display_data",
          "data": {
            "text/plain": [
              "<Figure size 720x360 with 1 Axes>"
            ],
            "image/png": "[encoded data removed]"
          },
          "metadata": {
            "needs_background": "light"
          }
        }
      ]
    },
    {
      "cell_type": "markdown",
      "source": [
        "**Grafik Kasus Sembuh di Jawa Timur**"
      ],
      "metadata": {
        "id": "B_grtSEAgzP6"
      }
    },
    {
      "cell_type": "code",
      "source": [
        "import numpy as np\n",
        "import pandas as pd\n",
        "import requests\n",
        "resp_jatim = requests.get('https://data.covid19.go.id/public/api/prov_detail_JAWA_TIMUR.json', verify=False)\n",
        "cov_jatim_raw = resp_jatim.json()\n",
        "cov_jatim = pd.DataFrame(cov_jatim_raw['list_perkembangan'])\n",
        "\n",
        "cov_jatim_tidy = (cov_jatim.drop(columns=[item for item in cov_jatim.columns \n",
        "                                               if item.startswith('AKUMULASI') \n",
        "                                                  or item.startswith('DIRAWAT')])\n",
        "                           .rename(columns=str.lower)\n",
        "                           .rename(columns={'kasus': 'kasus_baru'})\n",
        "                  )\n",
        "cov_jatim_tidy['tanggal'] = pd.to_datetime(cov_jatim_tidy['tanggal']*1e6, unit='ns')\n",
        "\n",
        "import matplotlib.pyplot as plt\n",
        "import matplotlib.dates as mdates\n",
        "\n",
        "plt.clf()\n",
        "fig, ax = plt.subplots(figsize=(10,5))\n",
        "ax.bar(data=cov_jatim_tidy, x='tanggal', height='sembuh', color='green')\n",
        "ax.set_title('Kasus Harian Sembuh Dari COVID-19 di Jawa Timur',\n",
        "             fontsize=22)\n",
        "ax.set_xlabel('Bulan')\n",
        "ax.set_ylabel('Jumlah kasus')\n",
        "ax.text(1, -0.3, 'Sumber data: covid.19.go.id', color='blue',\n",
        "        ha='right', transform=ax.transAxes)\n",
        "ax.set_xticklabels(ax.get_xticks(), rotation=90)\n",
        "\n",
        "ax.xaxis.set_major_locator(mdates.MonthLocator())\n",
        "ax.xaxis.set_major_formatter(mdates.DateFormatter('%b %Y'))\n",
        "\n",
        "plt.grid(axis='y')\n",
        "plt.tight_layout()\n",
        "plt.show()"
      ],
      "metadata": {
        "colab": {
          "base_uri": "https://localhost:8080/",
          "height": 430
        },
        "id": "Fm0cLKkGg46E",
        "outputId": "1c99f984-ef5f-43db-d513-c9c6672d1b84"
      },
      "execution_count": null,
      "outputs": [
        {
          "output_type": "stream",
          "name": "stderr",
          "text": [
            "/usr/local/lib/python3.7/dist-packages/urllib3/connectionpool.py:847: InsecureRequestWarning: Unverified HTTPS request is being made. Adding certificate verification is strongly advised. See: https://urllib3.readthedocs.io/en/latest/advanced-usage.html#ssl-warnings\n",
            "  InsecureRequestWarning)\n"
          ]
        },
        {
          "output_type": "display_data",
          "data": {
            "text/plain": [
              "<Figure size 432x288 with 0 Axes>"
            ]
          },
          "metadata": {}
        },
        {
          "output_type": "display_data",
          "data": {
            "text/plain": [
              "<Figure size 720x360 with 1 Axes>"
            ],
            "image/png": "[encoded data removed]"
          },
          "metadata": {
            "needs_background": "light"
          }
        }
      ]
    },
    {
      "cell_type": "markdown",
      "source": [
        "**Grafik Jumlah Kasus Meninggal di Jawa Timur**"
      ],
      "metadata": {
        "id": "Nr6LGWSpiH11"
      }
    },
    {
      "cell_type": "code",
      "source": [
        "import numpy as np\n",
        "import pandas as pd\n",
        "import requests\n",
        "resp_jatim = requests.get('https://data.covid19.go.id/public/api/prov_detail_JAWA_TIMUR.json', verify=False)\n",
        "cov_jatim_raw = resp_jatim.json()\n",
        "cov_jatim = pd.DataFrame(cov_jatim_raw['list_perkembangan'])\n",
        "\n",
        "cov_jatim_tidy = (cov_jatim.drop(columns=[item for item in cov_jatim.columns \n",
        "                                               if item.startswith('AKUMULASI') \n",
        "                                                  or item.startswith('DIRAWAT')])\n",
        "                           .rename(columns=str.lower)\n",
        "                           .rename(columns={'kasus': 'kasus_baru'})\n",
        "                  )\n",
        "cov_jatim_tidy['tanggal'] = pd.to_datetime(cov_jatim_tidy['tanggal']*1e6, unit='ns')\n",
        "\n",
        "import matplotlib.pyplot as plt\n",
        "import matplotlib.dates as mdates\n",
        "\n",
        "plt.clf()\n",
        "fig, ax = plt.subplots(figsize=(10,5))\n",
        "ax.bar(data=cov_jatim_tidy, x='tanggal', height='meninggal', color='red')\n",
        "ax.set_title('Kasus Harian Meninggal Dari COVID-19 di Jawa Timur',\n",
        "             fontsize=22)\n",
        "ax.set_xlabel('Bulan')\n",
        "ax.set_ylabel('Jumlah kasus')\n",
        "ax.text(1, -0.3, 'Sumber data: covid.19.go.id', color='blue',\n",
        "        ha='right', transform=ax.transAxes)\n",
        "ax.set_xticklabels(ax.get_xticks(), rotation=90)\n",
        "\n",
        "ax.xaxis.set_major_locator(mdates.MonthLocator())\n",
        "ax.xaxis.set_major_formatter(mdates.DateFormatter('%b %Y'))\n",
        "\n",
        "plt.grid(axis='y')\n",
        "plt.tight_layout()\n",
        "plt.show()"
      ],
      "metadata": {
        "colab": {
          "base_uri": "https://localhost:8080/",
          "height": 430
        },
        "id": "cd3YzxY7iM1y",
        "outputId": "431edf8c-a39c-4856-f1a9-99eae2434e2d"
      },
      "execution_count": null,
      "outputs": [
        {
          "output_type": "stream",
          "name": "stderr",
          "text": [
            "/usr/local/lib/python3.7/dist-packages/urllib3/connectionpool.py:847: InsecureRequestWarning: Unverified HTTPS request is being made. Adding certificate verification is strongly advised. See: https://urllib3.readthedocs.io/en/latest/advanced-usage.html#ssl-warnings\n",
            "  InsecureRequestWarning)\n"
          ]
        },
        {
          "output_type": "display_data",
          "data": {
            "text/plain": [
              "<Figure size 432x288 with 0 Axes>"
            ]
          },
          "metadata": {}
        },
        {
          "output_type": "display_data",
          "data": {
            "text/plain": [
              "<Figure size 720x360 with 1 Axes>"
            ],
            "image/png": "[encoded data removed]"
          },
          "metadata": {
            "needs_background": "light"
          }
        }
      ]
    },
    {
      "cell_type": "markdown",
      "source": [
        "**Kasus Pekanan di Jawa Timur**"
      ],
      "metadata": {
        "id": "eAxCshZjMh5l"
      }
    },
    {
      "cell_type": "code",
      "source": [
        "import numpy as np\n",
        "import pandas as pd\n",
        "import requests\n",
        "resp_jatim = requests.get('https://data.covid19.go.id/public/api/prov_detail_JAWA_TIMUR.json', verify=False)\n",
        "cov_jatim_raw = resp_jatim.json()\n",
        "cov_jatim = pd.DataFrame(cov_jatim_raw['list_perkembangan'])\n",
        "\n",
        "cov_jatim_tidy = (cov_jatim.drop(columns=[item for item in cov_jatim.columns \n",
        "                                               if item.startswith('AKUMULASI') \n",
        "                                                  or item.startswith('DIRAWAT')])\n",
        "                           .rename(columns=str.lower)\n",
        "                           .rename(columns={'kasus': 'kasus_baru'})\n",
        "                  )\n",
        "cov_jatim_tidy['tanggal'] = pd.to_datetime(cov_jatim_tidy['tanggal']*1e6, unit='ns')\n",
        "\n",
        "cov_jatim_pekanan = (cov_jatim_tidy.set_index('tanggal')['kasus_baru']\n",
        "                                   .resample('W')\n",
        "                                   .sum()\n",
        "                                   .reset_index()\n",
        "                                   .rename(columns={'kasus_baru': 'jumlah'})\n",
        "                    )\n",
        "cov_jatim_pekanan['tahun'] = cov_jatim_pekanan['tanggal'].apply(lambda x: x.year)\n",
        "cov_jatim_pekanan['pekan_ke'] = cov_jatim_pekanan['tanggal'].apply(lambda x: x.weekofyear)\n",
        "cov_jatim_pekanan = cov_jatim_pekanan[['tahun', 'pekan_ke', 'jumlah']]\n",
        "\n",
        "cov_jatim_pekanan['jumlah_pekanlalu'] = cov_jatim_pekanan['jumlah'].shift().replace(np.nan, 0).astype(np.int)\n",
        "cov_jatim_pekanan['lebih_baik'] = cov_jatim_pekanan['jumlah'] < cov_jatim_pekanan['jumlah_pekanlalu']\n",
        "\n",
        "print('Sepuluh data teratas:\\n', cov_jatim_pekanan.head(10))"
      ],
      "metadata": {
        "colab": {
          "base_uri": "https://localhost:8080/"
        },
        "id": "Dqvb53a0MrES",
        "outputId": "44d43014-b052-4844-ca00-708efd417678"
      },
      "execution_count": 3,
      "outputs": [
        {
          "output_type": "stream",
          "name": "stderr",
          "text": [
            "/usr/local/lib/python3.7/dist-packages/urllib3/connectionpool.py:847: InsecureRequestWarning: Unverified HTTPS request is being made. Adding certificate verification is strongly advised. See: https://urllib3.readthedocs.io/en/latest/advanced-usage.html#ssl-warnings\n",
            "  InsecureRequestWarning)\n"
          ]
        },
        {
          "output_type": "stream",
          "name": "stdout",
          "text": [
            "Sepuluh data teratas:\n",
            "    tahun  pekan_ke  jumlah  jumlah_pekanlalu  lebih_baik\n",
            "0   2020        12      42                 0       False\n",
            "1   2020        13      56                42       False\n",
            "2   2020        14     104                56       False\n",
            "3   2020        15     221               104       False\n",
            "4   2020        16     213               221        True\n",
            "5   2020        17     192               213        True\n",
            "6   2020        18     332               192       False\n",
            "7   2020        19     402               332       False\n",
            "8   2020        20     673               402       False\n",
            "9   2020        21    1455               673       False\n"
          ]
        },
        {
          "output_type": "stream",
          "name": "stderr",
          "text": [
            "/usr/local/lib/python3.7/dist-packages/ipykernel_launcher.py:26: DeprecationWarning: `np.int` is a deprecated alias for the builtin `int`. To silence this warning, use `int` by itself. Doing this will not modify any behavior and is safe. When replacing `np.int`, you may wish to use e.g. `np.int64` or `np.int32` to specify the precision. If you wish to review your current use, check the release note link for additional information.\n",
            "Deprecated in NumPy 1.20; for more details and guidance: https://numpy.org/devdocs/release/1.20.0-notes.html#deprecations\n"
          ]
        }
      ]
    },
    {
      "cell_type": "markdown",
      "source": [
        "**Grafik Akumulasi Kasus Positif COVID-19 di Jawa Timur**"
      ],
      "metadata": {
        "id": "ond_OV19LCcA"
      }
    },
    {
      "cell_type": "code",
      "source": [
        "import numpy as np\n",
        "import pandas as pd\n",
        "import requests\n",
        "resp_jatim = requests.get('https://data.covid19.go.id/public/api/prov_detail_JAWA_TIMUR.json', verify=False)\n",
        "cov_jatim_raw = resp_jatim.json()\n",
        "cov_jatim = pd.DataFrame(cov_jatim_raw['list_perkembangan'])\n",
        "\n",
        "cov_jatim_tidy = (cov_jatim.drop(columns=[item for item in cov_jatim.columns \n",
        "                                               if item.startswith('AKUMULASI') \n",
        "                                                  or item.startswith('DIRAWAT')])\n",
        "                           .rename(columns=str.lower)\n",
        "                           .rename(columns={'kasus': 'kasus_baru'})\n",
        "                  )\n",
        "cov_jatim_tidy['tanggal'] = pd.to_datetime(cov_jatim_tidy['tanggal']*1e6, unit='ns')\n",
        "\n",
        "cov_jatim_akumulasi = cov_jatim_tidy[['tanggal']].copy()\n",
        "cov_jatim_akumulasi['akumulasi_aktif'] = (cov_jatim_tidy['kasus_baru'] - cov_jatim_tidy['sembuh'] - cov_jatim_tidy['meninggal']).cumsum()\n",
        "cov_jatim_akumulasi['akumulasi_sembuh'] = cov_jatim_tidy['sembuh'].cumsum()\n",
        "cov_jatim_akumulasi['akumulasi_meninggal'] = cov_jatim_tidy['meninggal'].cumsum()\n",
        "\n",
        "import matplotlib.pyplot as plt\n",
        "import matplotlib.dates as mdates\n",
        "\n",
        "plt.clf()\n",
        "fig, ax = plt.subplots(figsize=(10,5))\n",
        "ax.plot('tanggal', 'akumulasi_aktif', data=cov_jatim_akumulasi, lw=2)\n",
        "\n",
        "ax.set_title('Akumulasi aktif COVID-19 di Jawa Timur',\n",
        "             fontsize=22)\n",
        "ax.set_xlabel('')\n",
        "ax.set_ylabel('Akumulasi aktif')\n",
        "ax.text(1, -0.3, 'Sumber data: covid.19.go.id', color='blue',\n",
        "        ha='right', transform=ax.transAxes)\n",
        "ax.set_xticklabels(ax.get_xticks(), rotation=90)\n",
        "\n",
        "ax.xaxis.set_major_locator(mdates.MonthLocator())\n",
        "ax.xaxis.set_major_formatter(mdates.DateFormatter('%b %Y'))\n",
        "\n",
        "plt.grid()\n",
        "plt.tight_layout()\n",
        "plt.show()"
      ],
      "metadata": {
        "colab": {
          "base_uri": "https://localhost:8080/",
          "height": 430
        },
        "id": "BDdCULRgLFK3",
        "outputId": "53343acf-4e45-4b73-96f3-79d3d91271fe"
      },
      "execution_count": 4,
      "outputs": [
        {
          "output_type": "stream",
          "name": "stderr",
          "text": [
            "/usr/local/lib/python3.7/dist-packages/urllib3/connectionpool.py:847: InsecureRequestWarning: Unverified HTTPS request is being made. Adding certificate verification is strongly advised. See: https://urllib3.readthedocs.io/en/latest/advanced-usage.html#ssl-warnings\n",
            "  InsecureRequestWarning)\n"
          ]
        },
        {
          "output_type": "display_data",
          "data": {
            "text/plain": [
              "<Figure size 432x288 with 0 Axes>"
            ]
          },
          "metadata": {}
        },
        {
          "output_type": "display_data",
          "data": {
            "text/plain": [
              "<Figure size 720x360 with 1 Axes>"
            ],
            "image/png": "[encoded data removed]"
          },
          "metadata": {
            "needs_background": "light"
          }
        }
      ]
    },
    {
      "cell_type": "markdown",
      "source": [
        "**Kesimpulan**\n",
        "\n",
        "Dari analisis data yang telah dilakukan, diperoleh kesimpulan bahwa:\n",
        "\n",
        "- Jumlah kasus harian positif COVID-19 tertinggi di Jawa Timur pada bulan Februari 2022.\n",
        "- Jumlah kasus sembuh tertinggi di Jawa Timur pada bulan Maret 2022.\n",
        "- Jumlah kasus meninggal tertinggi di Jawa Timur pada bulan Agustus 2021.\n",
        "- Penurunan kasus pekanan COVID-19 di Jawa Timur terjadi pada pekan ke-16 dan ke-17 pada tahun 2020.\n",
        "- Akumulasi aktif COVID-19 di Jawa Timur terjadi pada bulan Agustus 2021."
      ],
      "metadata": {
        "id": "7yO0JAA12xoT"
      }
    }
  ],
  "metadata": {
    "colab": {
      "collapsed_sections": [],
      "provenance": []
    },
    "kernelspec": {
      "display_name": "Python 3",
      "name": "python3"
    }
  },
  "nbformat": 4,
  "nbformat_minor": 0
}